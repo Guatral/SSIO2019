{
    "metadata": {
        "kernelspec": {
            "name": "python3",
            "display_name": "Python 3"
        },
        "language_info": {
            "name": "python",
            "version": "3.7.2",
            "mimetype": "text/x-python",
            "codemirror_mode": {
                "name": "ipython",
                "version": 3
            },
            "pygments_lexer": "ipython3",
            "nbconvert_exporter": "python",
            "file_extension": ".py"
        }
    },
    "nbformat_minor": 2,
    "nbformat": 4,
    "cells": [
        {
            "cell_type": "markdown",
            "source": [
                "CHAPTER 19\r\n",
                " Migrating to SQL Server Solutions in Azure\r\n",
                "\r\n",
                "Open Source PowerShell migration option\r\n",
                ""
            ],
            "metadata": {
                "azdata_cell_guid": "6ba15f81-a67b-4699-894b-458981eb443f"
            }
        },
        {
            "cell_type": "markdown",
            "source": [
                "##Migration Process\r\n",
                ""
            ],
            "metadata": {
                "azdata_cell_guid": "b18fc646-46ad-4657-a57a-3b748f6df482"
            }
        },
        {
            "cell_type": "code",
            "source": [
                "Install-Module Az.Resources\r\n",
                "Install-Module Az.Storage\r\n",
                "Install-Module dbatools\r\n",
                ""
            ],
            "metadata": {
                "azdata_cell_guid": "7ff6936b-84b2-44e3-be35-1eccb9bb2c66"
            },
            "outputs": [],
            "execution_count": 0
        },
        {
            "cell_type": "markdown",
            "source": [
                "#Migration Code\r\n",
                "Start by populating the parameters that define the names of source/target instances and temporary Azure Blob Storage account.\r\n",
                ""
            ],
            "metadata": {
                "azdata_cell_guid": "62a4fa0a-1ff0-4f9f-9789-a417d73e62ad"
            }
        },
        {
            "cell_type": "code",
            "source": [
                "# temporary resources needed for backups\r\n",
                "$location = \"westus\"\r\n",
                "$resourceGroup = \"temp-migration-demo-rg\"\r\n",
                "$blobStorageAccount = \"temp-demostorage\"\r\n",
                "$containerName = \"backups\"\r\n",
                " # source and target instances\r\n",
                "$sourceInstance = \"SOURCESQLSERVER\"\r\n",
                "$sourceDatabase = \"WideWorldImporters\"\r\n",
                " $targetInstance = \"targetmi.public.920d05d7463d.database.windows.net,3342\"\r\n",
                "$targetDatabase = \"WideWorldImporters\"\r\n",
                ""
            ],
            "metadata": {
                "azdata_cell_guid": "db319733-d9c2-4244-9bac-dc7a5eb2a0fc"
            },
            "outputs": [],
            "execution_count": 0
        },
        {
            "cell_type": "markdown",
            "source": [
                "Storage setup\r\n",
                "In order to move your databases, you need a temporary Azure Blob Storage account. If you already have one, you can skip this step.\r\n",
                "The following PowerShell script creates an Azure Blob Storage account that will be used in this example:\r\n",
                "\r\n",
                ""
            ],
            "metadata": {
                "azdata_cell_guid": "88ff720a-7bbb-4b69-9492-74fcaeced898"
            }
        },
        {
            "cell_type": "code",
            "source": [
                "New-AzResourceGroup -Name $resourceGroup -Location $location\r\n",
                "$storageAccount = New-AzStorageAccount -ResourceGroupName $resourceGroup `\r\n",
                "-Name $blobStorageAccount `\r\n",
                "-Location $location `\r\n",
                "-SkuName Standard_LRS `\r\n",
                "-Kind StorageV2\r\n",
                " \r\n",
                "$ctx = $storageAccount.Context\r\n",
                "New-AzStorageContainer -Name $containerName -Context $ctx -Permission Container\r\n",
                ""
            ],
            "metadata": {
                "azdata_cell_guid": "17213ab4-7b9f-40de-9e5a-ae1060126048"
            },
            "outputs": [],
            "execution_count": 0
        },
        {
            "cell_type": "markdown",
            "source": [
                "##Source instance setup\r\n",
                "\r\n",
                "Generate the SAS key, which enables your SQL Server instance to access the Azure Blob Storage account and puts the database backups in that location. This SAS key should be stored in the credential object on the source SQL Server instance:\r\n",
                ""
            ],
            "metadata": {
                "azdata_cell_guid": "d4ff1b7e-969b-4dfb-859f-ff8020427c27"
            }
        },
        {
            "cell_type": "code",
            "source": [
                "$sas = (New-AzStorageAccountSASToken -Service Blob -ResourceType Object -Permission \"rw\" -Context $ctx).TrimStart('?')\r\n",
                "$sourceCred = New-DbaCredential -SqlInstance $sourceInstance `\r\n",
                "                           -Name \"https://$blobStorageAccount.blob.core.windows.net/$containerName\" `\r\n",
                "                           -Identity \"SHARED ACCESS SIGNATURE\" `\r\n",
                "                           -SecurePassword (ConvertTo-SecureString $sas -AsPlainText -Force)\r\n",
                "\r\n",
                ""
            ],
            "metadata": {
                "azdata_cell_guid": "c1d541bc-837e-4734-9043-1fe651e8afd0"
            },
            "outputs": [],
            "execution_count": 0
        },
        {
            "cell_type": "markdown",
            "source": [
                "Database migration\r\n",
                "Take backups of your SQL Server databases and place them in Azure Blob Storage. The simplest way is to backup directly to a URL. Here is where dbatools comes in. \r\n",
                "\r\n",
                ""
            ],
            "metadata": {
                "azdata_cell_guid": "3069e4df-6c50-4f90-a689-b80226981371"
            }
        },
        {
            "cell_type": "code",
            "source": [
                "Backup-DbaDatabase -SqlInstance $sourceInstance -Database $sourceDatabase `\r\n",
                "                   -AzureBaseUrl \"https://$blobStorageAccount.blob.core.windows.net/$containerName\" `\r\n",
                "                   -BackupFileName \"WideWorldImporters.bak\" `\r\n",
                "                   -Type Full -Checksum -CopyOnly\r\n",
                "\r\n",
                "                   \r\n",
                ""
            ],
            "metadata": {
                "azdata_cell_guid": "4c066a70-415b-41f6-826c-7961323e5b2f"
            },
            "outputs": [],
            "execution_count": 0
        },
        {
            "cell_type": "markdown",
            "source": [
                "Migrating databases to target instance\r\n",
                "The migration stage requires you to create a SAS token that will enable managed instance to read a .bak file from Azure Blob Storage, create a credential with this SAS token, and restore the databases:\r\n",
                ""
            ],
            "metadata": {
                "azdata_cell_guid": "2f535f67-8f58-414f-9f9b-fd3aa5a2529f"
            }
        },
        {
            "cell_type": "code",
            "source": [
                "## Generate new SAS token that will read .bak file\r\n",
                "$sas = (New-AzStorageAccountSASToken -Service Blob -ResourceType Object -Permission \"r\" -Context $ctx).TrimStart('?') # -ResourceType Container,Object\r\n",
                " \r\n",
                "$targetLogin = Get-Credential -Message \"Login to target Managed Instance as:\"\r\n",
                "$target = Connect-DbaInstance -SqlInstance $targetInstance -SqlCredential $targetLogin\r\n",
                "$targetCred = New-DbaCredential -SqlInstance $target `\r\n",
                "                           -Name \"https://$blobStorageAccount.blob.core.windows.net/$containerName\" `\r\n",
                "                           -Identity \"SHARED ACCESS SIGNATURE\" `\r\n",
                "                           -SecurePassword (ConvertTo-SecureString $sas -AsPlainText -Force) `\r\n",
                "                           -Force\r\n",
                "Restore-DbaDatabase -SqlInstance $target -Database $targetDatabase `\r\n",
                "                   -Path \"https://$blobStorageAccount.blob.core.windows.net/$containerName/WideWorldImporters.bak\"\r\n",
                ""
            ],
            "metadata": {
                "azdata_cell_guid": "de7a16c3-46ff-4d81-83ee-a5763a8a5c91"
            },
            "outputs": [],
            "execution_count": 0
        },
        {
            "cell_type": "markdown",
            "source": [
                "Server-level objects migration\r\n",
                "Once you migrate your database objects, you may still need to migrate server-level objects such as Agent jobs and operators, or logins.\r\n",
                "Dbatools provides a set of useful scripts that you can apply to migrate these objects using Copy-Dba commands.  Of the next set of commands, customize and use only those relevant to your environment. As mentioned earlier, this is where you can migrate Agent jobs, linked servers, and end points.  If you do not see the command you need here check the documentation at: https://docs.dbatools.io.\r\n",
                ""
            ],
            "metadata": {
                "azdata_cell_guid": "45bdc2d1-275f-4218-a873-f44bfb3b94e7"
            }
        },
        {
            "cell_type": "code",
            "source": [
                "Copy-DbaSysDbUserObject -Source $sourceInstance -Destination $targetInstance -DestinationSqlCredential $targetLogin\r\n",
                "Copy-DbaDbMail -Source $sourceInstance -Destination $targetInstance -DestinationSqlCredential $targetLogin\r\n",
                "Copy-DbaAgentOperator -Source $sourceInstance -Destination $targetInstance -DestinationSqlCredential $targetLogin\r\n",
                "Copy-DbaAgentJobCategory -Source $sourceInstance -Destination $targetInstance -DestinationSqlCredential $targetLogin\r\n",
                "Copy-DbaAgentJob -Source $sourceInstance -Destination $targetInstance -DestinationSqlCredential $targetLogin\r\n",
                "Copy-DbaAgentSchedule -Source $sourceInstance -Destination $targetInstance -DestinationSqlCredential $targetLogin\r\n",
                "Copy-DbaLogin -Source $sourceInstance -Destination $targetInstance -DestinationSqlCredential $targetLogin -ExcludeSystemLogins\r\n",
                "Copy-DbaLinkedServer -Source $sourceInstance -Destination $targetInstance -DestinationSqlCredential $targetLogin -LinkedServer] <Object[]>\r\n",
                "Copy-DbaEndpoint -Source $sourceInstance -Destination $targetInstance -DestinationSqlCredential $targetLogin [-Endpoint] <Object[]>]\r\n",
                " \r\n",
                ""
            ],
            "metadata": {
                "azdata_cell_guid": "20af71f6-e40b-4f57-8501-f91b11f4359d"
            },
            "outputs": [],
            "execution_count": 0
        },
        {
            "cell_type": "markdown",
            "source": [
                "Cleanup process for PoSh migration\r\n",
                "If your Azure Blob Storage account is temporary storage that you need to use when moving databases, you can remove these resources using the following PowerShell command.  It is good practice to always clean up resources you no longer need.\r\n",
                ""
            ],
            "metadata": {
                "azdata_cell_guid": "ec7bbdf9-05b9-48cd-98d7-7a07cd468f57"
            }
        },
        {
            "cell_type": "code",
            "source": [
                " Remove-AzResourceGroup -Name $resourceGroup -Force"
            ],
            "metadata": {
                "azdata_cell_guid": "7c94014b-db80-49b6-b4df-da1991cadaa2"
            },
            "outputs": [],
            "execution_count": 0
        }
    ]
}
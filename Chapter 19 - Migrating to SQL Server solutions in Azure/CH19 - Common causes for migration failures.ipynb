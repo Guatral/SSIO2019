{
    "metadata": {
        "kernelspec": {
            "name": "SQL",
            "display_name": "SQL",
            "language": "sql"
        },
        "language_info": {
            "name": "sql",
            "version": ""
        }
    },
    "nbformat_minor": 2,
    "nbformat": 4,
    "cells": [
        {
            "cell_type": "markdown",
            "source": [
                "# Common causes for migration failures \r\n",
                ""
            ],
            "metadata": {
                "azdata_cell_guid": "d980cb60-d689-48fb-98ff-b1f79fb7ce54"
            }
        },
        {
            "cell_type": "markdown",
            "source": [
                "## Hierarchyid, Geometry, Geography and sql_variant datatypes\r\n",
                "\r\n",
                "The hierarchyid, geometry, geography and sql_variant datatypes are not currently supported.  Exclude any tables with these datatypes from the configuration migration settings blade, where you specify tables for migration.  Alternatively if it is an option, change the datatype before migration or migrate these datatypes offline. You can use this code to determine which if any of your tables have columns that have an unsupported data type.\r\n",
                "\r\n",
                "\r\n",
                "\r\n",
                "\r\n",
                " "
            ],
            "metadata": {
                "azdata_cell_guid": "4a6c4a9b-30fd-450f-9083-40384d0bae41"
            }
        },
        {
            "cell_type": "code",
            "source": [
                "SELECT distinct c.TABLE_NAME,c.COLUMN_NAME,c.DATA_TYPE \r\n",
                "from INFORMATION_SCHEMA.columns c\r\n",
                "WHERE c.data_type in ('hierarchyid','geometry','geography', 'sql_variant' )\r\n",
                ""
            ],
            "metadata": {
                "azdata_cell_guid": "a1956ddd-6ad4-4843-a6e0-7f02143a5086"
            },
            "outputs": [],
            "execution_count": 1
        },
        {
            "cell_type": "markdown",
            "source": [
                "## Temporal Tables\r\n",
                "Temporal tables are not supported for online migration. Exclude these tables from the configuration migration settings blade, where you specify tables for migration.  You can use this code to determine which if any of your tables are temporal:"
            ],
            "metadata": {
                "azdata_cell_guid": "76de6b0b-c4f0-47c7-a1fa-9c287bfcd0f4"
            }
        },
        {
            "cell_type": "code",
            "source": [
                "select name, temporal_type, temporal_type_desc\r\n",
                " from sys.tables \r\n",
                "where temporal_type <>0\r\n",
                ""
            ],
            "metadata": {
                "azdata_cell_guid": "6897c975-781a-43cf-b8d1-b57eb31bb4d7"
            },
            "outputs": [],
            "execution_count": 4
        },
        {
            "cell_type": "markdown",
            "source": [
                "## Active Triggers\r\n",
                "Temporal tables are not supported for online migration. Exclude these tables from the configuration migration settings blade, where you specify tables for migration.  You can use this code to determine which if any of your tables are temporal:"
            ],
            "metadata": {
                "azdata_cell_guid": "aa450692-112a-4a03-9bac-7ba439358cf5"
            }
        },
        {
            "cell_type": "code",
            "source": [
                "select s.name 'Schema',T.name 'Table Name',G.name 'Trigger Name'\r\n",
                "from sys.TABLES T\r\n",
                "join sys.triggers G\r\n",
                "on G.parent_id = T.object_id\r\n",
                "join sys.schemas S\r\n",
                "on s.schema_id = t.schema_id\r\n",
                "where is_disabled =0\r\n",
                ""
            ],
            "metadata": {
                "azdata_cell_guid": "16fe2272-cdbb-42a2-9f86-395bd0872459"
            },
            "outputs": [],
            "execution_count": 3
        },
        {
            "cell_type": "markdown",
            "source": [
                "## Large Object Data types\r\n",
                "Large Object data types will require special handling. In this context, large-value data types are those that exceed the maximum row size of 8 KB. Columns larger than 32 KB may get truncated at the target. Exclude these tables from the configuration migration settings blade, where you specify tables for migration.  You can use this code to determine which if any of your columns will be affected."
            ],
            "metadata": {
                "azdata_cell_guid": "611d1fbb-3369-4c1b-acb0-f12826beeac4"
            }
        },
        {
            "cell_type": "code",
            "source": [
                "with infoschema_CTE (Table_name, Column_name)\n",
                "as (\n",
                "Select TABLE_NAME, COLUMN_NAME \n",
                "from INFORMATION_SCHEMA.columns\n",
                ")\n",
                "select table_name, column_name,max(DATALENGTH(COLUMN_NAME)) as 'SizeInBytes'\n",
                ",max(DATALENGTH(COLUMN_NAME))/1024 as 'SizeInKB'\n",
                "from infoschema_CTE \n",
                "group by table_name, column_name\n",
                "having (max(DATALENGTH(COLUMN_NAME))/1024) > 32\n",
                "order by max(DATALENGTH(COLUMN_NAME)) desc\n",
                ""
            ],
            "metadata": {
                "azdata_cell_guid": "418c5b37-b433-470e-ad25-3d50849bca35"
            },
            "outputs": [],
            "execution_count": 0
        }
    ]
}
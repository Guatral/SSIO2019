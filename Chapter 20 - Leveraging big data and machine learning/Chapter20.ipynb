{
    "metadata": {
        "kernelspec": {
            "name": "SQL",
            "display_name": "SQL",
            "language": "sql"
        },
        "language_info": {
            "name": "sql",
            "version": ""
        }
    },
    "nbformat_minor": 2,
    "nbformat": 4,
    "cells": [
        {
            "cell_type": "markdown",
            "source": [
                "Configure and enable"
            ],
            "metadata": {
                "azdata_cell_guid": "aa94f0af-69f5-4a18-9f57-ba2092f2806a"
            }
        },
        {
            "cell_type": "markdown",
            "source": [
                "Along with the master key you will need to configure PolyBase globally using sp_configure. The configvalue can range from 0 to 7 with 1 through 6 dealing with the older versions of Hortonworks.  Setting 7 allows for connectivity with more recent versions on both Windows and Linux as well as Azure Blob Storage.  As you usually do after running the sp_configure command, RECONFIGURE needs to be run and a restart of SQL Server service needs to be completed.  The PolyBase services will both have to be started manually as they are automatically turned off during this process and do not start automatically.\r\n",
                "This can be done with these commands:\r\n",
                ""
            ],
            "metadata": {
                "azdata_cell_guid": "f666a5b7-b023-46d7-aca5-e27ea2ccfc8b"
            }
        },
        {
            "cell_type": "code",
            "source": [
                "exec sp_configure @configname = 'polybase enabled', @configvalue = 1;\r\n",
                "exec sp_configure @configname = 'hadoop connectivity'\r\n",
                ""
            ],
            "metadata": {
                "azdata_cell_guid": "9bdd6b9e-bcd0-4d12-8a74-66647872b4da",
                "tags": [
                    "hide_input"
                ]
            },
            "outputs": [],
            "execution_count": 0
        },
        {
            "cell_type": "markdown",
            "source": [
                "External data source"
            ],
            "metadata": {
                "azdata_cell_guid": "ce804cda-3e23-4e73-8f01-11250a2f5ca2"
            }
        },
        {
            "cell_type": "code",
            "source": [
                "-- Create the External Data Source\r\n",
                "-- Remove the ? from the beginning of the SAS token\r\n",
                "-- Do not put a trailing /, file name, or shared access signature parameters at the end of the LOCATION URL when configuring an external data sources for bulk operations.\r\n",
                "CREATE DATABASE SCOPED CREDENTIAL AccessPurchaseOrder\r\n",
                "WITH\r\n",
                "     IDENTITY = 'SHARED ACCESS SIGNATURE'\r\n",
                ", SECRET = '******srt=sco&sp=rwac&se=2017-02-01T00:55:34Z&st=2016-12-29T16:55:34Z***************'\r\n",
                ";\r\n",
                "CREATE EXTERNAL DATA SOURCE ExternalPurchaseOrder\r\n",
                "WITH\r\n",
                "(LOCATION   = 'https://newinvoices.blob.core.windows.net/week3'\r\n",
                ",CREDENTIAL = AccessPurchaseOrder, TYPE = BLOB_STORAGE)\r\n",
                ";\r\n",
                "--Insert into \r\n",
                "BULK INSERT Sales.Orders\r\n",
                "FROM 'order-2019-11-04.csv'\r\n",
                "WITH (DATA_SOURCE = ' ExternalPurchaseOrder');\r\n",
                ""
            ],
            "metadata": {
                "azdata_cell_guid": "b41cc9dd-068c-4956-8e81-2659ce597cf1"
            },
            "outputs": [],
            "execution_count": 0
        },
        {
            "cell_type": "markdown",
            "source": [
                "External file format\r\n",
                ""
            ],
            "metadata": {
                "azdata_cell_guid": "7756fbe8-4631-4019-bd3f-75006b8e734f"
            }
        },
        {
            "cell_type": "code",
            "source": [
                "CREATE EXTERNAL FILE FORMAT skipHeader_CSV\r\n",
                "WITH (FORMAT_TYPE = DELIMITEDTEXT,\r\n",
                "      FORMAT_OPTIONS(\r\n",
                "          FIELD_TERMINATOR = ',',\r\n",
                "          STRING_DELIMITER = '\"',\r\n",
                "          FIRST_ROW = 2, \r\n",
                "          USE_TYPE_DEFAULT = True)\r\n",
                ")\r\n",
                ""
            ],
            "metadata": {
                "azdata_cell_guid": "b1fb54f2-2814-47db-a427-7998e3610de3"
            },
            "outputs": [],
            "execution_count": 0
        },
        {
            "cell_type": "code",
            "source": [
                "-- Create a Master Key\r\n",
                "   CREATE MASTER KEY ENCRYPTION BY PASSWORD = 'password';\r\n",
                "   CREATE DATABASE SCOPED CREDENTIAL credential_name\r\n",
                "   WITH IDENTITY = 'username', Secret = 'password';\r\n",
                "-- LOCATION: Location string for data\r\n",
                "   CREATE EXTERNAL DATA SOURCE external_data_source_name\r\n",
                "   WITH ( LOCATION = 'oracle://<server address>[:<port>]',   CREDENTIAL = credential_name)\r\n",
                "--Create table\r\n",
                "   CREATE EXTERNAL TABLE customers(\r\n",
                "   [O_ORDERKEY] DECIMAL(38) NOT NULL,\r\n",
                "   [O_CUSTKEY] DECIMAL(38) NOT NULL,\r\n",
                "   [O_ORDERSTATUS] CHAR COLLATE Latin1_General_BIN NOT NULL,\r\n",
                "   [O_TOTALPRICE] DECIMAL(15,2) NOT NULL,\r\n",
                "   [O_ORDERDATE] DATETIME2(0) NOT NULL,\r\n",
                "   [O_ORDERPRIORITY] CHAR(15) COLLATE Latin1_General_BIN NOT NULL,\r\n",
                "   [O_CLERK] CHAR(15) COLLATE Latin1_General_BIN NOT NULL,\r\n",
                "   [O_SHIPPRIORITY] DECIMAL(38) NOT NULL,\r\n",
                "   [O_COMMENT] VARCHAR(79) COLLATE Latin1_General_BIN NOT NULL\r\n",
                "   )\r\n",
                "   WITH ( LOCATION='customer', DATA_SOURCE= external_data_source_name   );\r\n",
                ""
            ],
            "metadata": {
                "azdata_cell_guid": "6c310130-1279-4064-ba50-bc1fa818f0e4"
            },
            "outputs": [],
            "execution_count": 0
        },
        {
            "cell_type": "code",
            "source": [
                "CREATE EXTERNAL DATA SOURCE mydatasource\r\n",
                "WITH (\r\n",
                "    TYPE = HADOOP,\r\n",
                "    LOCATION = 'hdfs://xxx.xxx.xxx.xxx:8020'\r\n",
                ")\r\n",
                "CREATE EXTERNAL FILE FORMAT myfileformat\r\n",
                "WITH (\r\n",
                "    FORMAT_TYPE = DELIMITEDTEXT,\r\n",
                "    FORMAT_OPTIONS (FIELD_TERMINATOR ='|')\r\n",
                ");\r\n",
                "CREATE EXTERNAL TABLE ClickStream (\r\n",
                "    url varchar(50),\r\n",
                "    event_date date,\r\n",
                "    user_IP varchar(50)\r\n",
                ")\r\n",
                "WITH (\r\n",
                "        LOCATION='/webdata/employee.tbl',\r\n",
                "        DATA_SOURCE = mydatasource,\r\n",
                "        FILE_FORMAT = myfileformat\r\n",
                "    )\r\n",
                ";\r\n",
                "SELECT TOP 10 (url) FROM ClickStream WHERE user_ip = 'xxx.xxx.xxx.xxx' ;\r\n",
                ""
            ],
            "metadata": {
                "azdata_cell_guid": "337e36b4-e829-4df9-bc44-f6607b9cf907"
            },
            "outputs": [],
            "execution_count": 0
        },
        {
            "cell_type": "code",
            "source": [
                "PUSHDOWN                  = [ON | OFF]\r\n",
                " , RESOURCE_MANAGER_LOCATION = '<resource_manager>[:<port>]'\r\n",
                ""
            ],
            "metadata": {
                "azdata_cell_guid": "98976046-33e8-40cb-bf3b-51f6f075aff8"
            },
            "outputs": [],
            "execution_count": 0
        },
        {
            "cell_type": "markdown",
            "source": [
                "PolyBase"
            ],
            "metadata": {
                "azdata_cell_guid": "a77ab5d2-fe1f-4930-8764-798576a6a8ab"
            }
        },
        {
            "cell_type": "code",
            "source": [
                "SELECT SERVERPROPERTY ('IsPolyBaseInstalled') AS IsPolyBaseInstalled;"
            ],
            "metadata": {
                "azdata_cell_guid": "ae717a8e-b930-4e7e-832e-0b6adabf6ec5"
            },
            "outputs": [],
            "execution_count": 0
        },
        {
            "cell_type": "markdown",
            "source": [
                ""
            ],
            "metadata": {
                "azdata_cell_guid": "c3033395-3e3f-4412-84c9-beccbbea7f76"
            }
        }
    ]
}
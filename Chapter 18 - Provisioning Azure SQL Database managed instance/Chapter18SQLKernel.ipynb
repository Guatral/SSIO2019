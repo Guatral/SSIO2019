{
    "metadata": {
        "kernelspec": {
            "name": "SQL",
            "display_name": "SQL",
            "language": "sql"
        },
        "language_info": {
            "name": "sql",
            "version": ""
        }
    },
    "nbformat_minor": 2,
    "nbformat": 4,
    "cells": [
        {
            "cell_type": "markdown",
            "source": [
                "Backup and restore"
            ],
            "metadata": {
                "azdata_cell_guid": "b488e731-166c-4132-aca8-81c95ee1daf5"
            }
        },
        {
            "cell_type": "code",
            "source": [
                "RESTORE DATABASE { database_name | @database_name_var }\n",
                " FROM URL = { 'physical_device_name' | @physical_device_name_var } [ ,...n ] ;\n",
                ""
            ],
            "metadata": {
                "azdata_cell_guid": "76ee9fd3-a0e9-4a6c-892c-3a9dcbcbed7e"
            },
            "outputs": [],
            "execution_count": null
        },
        {
            "cell_type": "markdown",
            "source": [
                "Status check operation"
            ],
            "metadata": {
                "azdata_cell_guid": "f5709734-9923-4f73-90f0-a60ecafd9027"
            }
        },
        {
            "cell_type": "code",
            "source": [
                "SELECT * FROM sys.dm_operation_status   \r\n",
                "   \t\tWHERE major_resource_id = 'myddb'   \r\n",
                " ORDER BY start_time DESC;\r\n",
                ""
            ],
            "metadata": {
                "azdata_cell_guid": "e5329737-4159-4ad9-a7a1-35920e6081de"
            },
            "outputs": [],
            "execution_count": null
        },
        {
            "cell_type": "markdown",
            "source": [
                ""
            ],
            "metadata": {
                "azdata_cell_guid": "4bebb255-256e-4f36-bf4c-fb3b4c287d33"
            }
        }
    ]
}
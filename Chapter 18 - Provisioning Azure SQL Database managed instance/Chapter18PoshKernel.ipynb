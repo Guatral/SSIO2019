{
    "metadata": {
        "kernelspec": {
            "name": "powershell",
            "display_name": "PowerShell"
        },
        "language_info": {
            "name": "powershell",
            "codemirror_mode": "shell",
            "mimetype": "text/x-sh",
            "file_extension": ".ps1"
        }
    },
    "nbformat_minor": 2,
    "nbformat": 4,
    "cells": [
        {
            "cell_type": "markdown",
            "source": [
                "Creating the VPN Gateway via Powershell"
            ],
            "metadata": {
                "azdata_cell_guid": "8fb5da5b-64d0-44d8-b30f-cf4f09e4bba1"
            }
        },
        {
            "cell_type": "code",
            "source": [
                "$scriptUrlBase = 'https://raw.githubusercontent.com/Microsoft/sql-server-samples/master/samples/manage/azure-sql-db-managed-instance/attach-vpn-gateway'\r\n",
                "$parameters = @\r\n",
                "{\r\n",
                "  subscriptionId = '<subscriptionId>'\r\n",
                "  resourceGroupName = '<resourceGroupName>'\r\n",
                "  virtualNetworkName = '<virtualNetworkName>'\r\n",
                "  certificateNamePrefix  = '<certificateNamePrefix>'\r\n",
                "  }\r\n",
                "Invoke-Command -ScriptBlock ([Scriptblock]::Create((iwr ($scriptUrlBase+'/attachVPNGateway.ps1?t='+ [DateTime]::Now.Ticks)).Content)) -ArgumentList $parameters, $scriptUrlBase\r\n",
                ""
            ],
            "metadata": {
                "azdata_cell_guid": "a9428f00-1940-43a1-8156-e6a34a751a2e"
            },
            "outputs": [],
            "execution_count": null
        }
    ]
}